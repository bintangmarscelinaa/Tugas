{
 "cells": [
  {
   "cell_type": "markdown",
   "id": "6bcae0e3",
   "metadata": {},
   "source": [
    "5.12 List di Python"
   ]
  },
  {
   "cell_type": "code",
   "execution_count": 1,
   "id": "64a8d5b1",
   "metadata": {},
   "outputs": [
    {
     "name": "stdout",
     "output_type": "stream",
     "text": [
      "['merah', 'kuning', 'hijau', 'biru']\n"
     ]
    }
   ],
   "source": [
    "warna = ['merah', 'kuning', 'hijau', 'biru']\n",
    "print(warna)"
   ]
  },
  {
   "cell_type": "code",
   "execution_count": 2,
   "id": "768f53d3",
   "metadata": {},
   "outputs": [
    {
     "name": "stdout",
     "output_type": "stream",
     "text": [
      "merah\n"
     ]
    }
   ],
   "source": [
    "print(warna[0])"
   ]
  },
  {
   "cell_type": "code",
   "execution_count": 3,
   "id": "72775bc3",
   "metadata": {},
   "outputs": [
    {
     "name": "stdout",
     "output_type": "stream",
     "text": [
      "hijau\n"
     ]
    }
   ],
   "source": [
    "print(warna[2])"
   ]
  },
  {
   "cell_type": "code",
   "execution_count": 4,
   "id": "71c35038",
   "metadata": {},
   "outputs": [
    {
     "name": "stdout",
     "output_type": "stream",
     "text": [
      "biru\n"
     ]
    }
   ],
   "source": [
    "print(warna[-1])"
   ]
  },
  {
   "cell_type": "code",
   "execution_count": 5,
   "id": "5b7efb82",
   "metadata": {},
   "outputs": [
    {
     "name": "stdout",
     "output_type": "stream",
     "text": [
      "hijau\n"
     ]
    }
   ],
   "source": [
    "print(warna[-2])"
   ]
  },
  {
   "cell_type": "code",
   "execution_count": 7,
   "id": "e5447182",
   "metadata": {},
   "outputs": [
    {
     "name": "stdout",
     "output_type": "stream",
     "text": [
      "['ungu', 'kuning', 'hijau', 'biru']\n"
     ]
    }
   ],
   "source": [
    "warna[0] = 'ungu'\n",
    "print(warna)"
   ]
  },
  {
   "cell_type": "code",
   "execution_count": 8,
   "id": "a406386d",
   "metadata": {},
   "outputs": [
    {
     "name": "stdout",
     "output_type": "stream",
     "text": [
      "['ungu', 'kuning', 'hijau']\n"
     ]
    }
   ],
   "source": [
    "print(warna[0:3])"
   ]
  },
  {
   "cell_type": "code",
   "execution_count": 9,
   "id": "0ffdfb3b",
   "metadata": {},
   "outputs": [
    {
     "name": "stdout",
     "output_type": "stream",
     "text": [
      "['ungu', 'kuning', 'hijau', 'biru']\n"
     ]
    }
   ],
   "source": [
    "# tidak merubah list\n",
    "print(warna)"
   ]
  },
  {
   "cell_type": "markdown",
   "id": "4b76c975",
   "metadata": {},
   "source": [
    "5.13 Metoda List"
   ]
  },
  {
   "cell_type": "code",
   "execution_count": 10,
   "id": "b227105b",
   "metadata": {},
   "outputs": [
    {
     "name": "stdout",
     "output_type": "stream",
     "text": [
      "['Ni', 'Nyoman', 'Bintang', 'Marscelina']\n"
     ]
    }
   ],
   "source": [
    "nama = ['Ni', 'Nyoman', 'Bintang']\n",
    "nama.append('Marscelina')\n",
    "print(nama)"
   ]
  },
  {
   "cell_type": "code",
   "execution_count": 11,
   "id": "028b6103",
   "metadata": {},
   "outputs": [
    {
     "name": "stdout",
     "output_type": "stream",
     "text": [
      "['Saya', 'Ni', 'Nyoman', 'Bintang', 'Marscelina']\n"
     ]
    }
   ],
   "source": [
    "nama.insert(0,'Saya')\n",
    "print(nama)"
   ]
  },
  {
   "cell_type": "code",
   "execution_count": 12,
   "id": "3f4c4d17",
   "metadata": {},
   "outputs": [
    {
     "name": "stdout",
     "output_type": "stream",
     "text": [
      "['Ni', 'Nyoman', 'Bintang', 'Marscelina']\n"
     ]
    }
   ],
   "source": [
    "nama.remove('Saya')\n",
    "print(nama)"
   ]
  },
  {
   "cell_type": "code",
   "execution_count": 15,
   "id": "003ec8df",
   "metadata": {},
   "outputs": [
    {
     "name": "stdout",
     "output_type": "stream",
     "text": [
      "False\n"
     ]
    }
   ],
   "source": [
    "print('Saya' in nama)"
   ]
  },
  {
   "cell_type": "code",
   "execution_count": 16,
   "id": "9b29cf69",
   "metadata": {},
   "outputs": [
    {
     "name": "stdout",
     "output_type": "stream",
     "text": [
      "True\n"
     ]
    }
   ],
   "source": [
    "print('Bintang' in nama) "
   ]
  },
  {
   "cell_type": "code",
   "execution_count": 17,
   "id": "55a7abec",
   "metadata": {},
   "outputs": [
    {
     "name": "stdout",
     "output_type": "stream",
     "text": [
      "4\n"
     ]
    }
   ],
   "source": [
    "print(len(nama))"
   ]
  },
  {
   "cell_type": "markdown",
   "id": "e1fa444d",
   "metadata": {},
   "source": [
    "5.14 For Loop"
   ]
  },
  {
   "cell_type": "code",
   "execution_count": 18,
   "id": "68d20822",
   "metadata": {},
   "outputs": [
    {
     "name": "stdout",
     "output_type": "stream",
     "text": [
      "senin\n",
      "selasa\n",
      "rabu\n",
      "kamis\n",
      "jumat\n",
      "sabtu\n",
      "minggu\n"
     ]
    }
   ],
   "source": [
    "hari = ['senin', 'selasa', 'rabu', 'kamis', 'jumat', 'sabtu', 'minggu']\n",
    "for nama in hari:\n",
    "    print(nama)"
   ]
  },
  {
   "cell_type": "code",
   "execution_count": 19,
   "id": "478b6523",
   "metadata": {},
   "outputs": [
    {
     "name": "stdout",
     "output_type": "stream",
     "text": [
      "senin\n",
      "selasa\n",
      "rabu\n",
      "kamis\n",
      "jumat\n",
      "sabtu\n",
      "minggu\n"
     ]
    }
   ],
   "source": [
    "i = 0\n",
    "while i < len(hari):\n",
    "    print(hari[i])\n",
    "    i+=1"
   ]
  },
  {
   "cell_type": "markdown",
   "id": "d3ace650",
   "metadata": {},
   "source": [
    "5.15 Fungsi Range"
   ]
  },
  {
   "cell_type": "code",
   "execution_count": 21,
   "id": "13763837",
   "metadata": {},
   "outputs": [
    {
     "name": "stdout",
     "output_type": "stream",
     "text": [
      "range(0, 8)\n"
     ]
    }
   ],
   "source": [
    "angka = range(8)\n",
    "print(angka)"
   ]
  },
  {
   "cell_type": "code",
   "execution_count": 22,
   "id": "42a0f6c6",
   "metadata": {},
   "outputs": [
    {
     "name": "stdout",
     "output_type": "stream",
     "text": [
      "0\n",
      "1\n",
      "2\n",
      "3\n",
      "4\n",
      "5\n",
      "6\n",
      "7\n"
     ]
    }
   ],
   "source": [
    "for isi in angka:\n",
    "    print(isi)"
   ]
  },
  {
   "cell_type": "code",
   "execution_count": 23,
   "id": "ded0dee2",
   "metadata": {},
   "outputs": [
    {
     "name": "stdout",
     "output_type": "stream",
     "text": [
      "1\n",
      "2\n",
      "3\n",
      "4\n"
     ]
    }
   ],
   "source": [
    "for isi in range(1,5):\n",
    "    print(isi)"
   ]
  },
  {
   "cell_type": "code",
   "execution_count": 24,
   "id": "c260f3e1",
   "metadata": {},
   "outputs": [
    {
     "name": "stdout",
     "output_type": "stream",
     "text": [
      "0\n",
      "3\n",
      "6\n",
      "9\n",
      "12\n",
      "15\n",
      "18\n"
     ]
    }
   ],
   "source": [
    "for isi in range(0,20,3):\n",
    "    print(isi)"
   ]
  },
  {
   "cell_type": "markdown",
   "id": "23c0100a",
   "metadata": {},
   "source": [
    "5.16 List 2 Dimensi"
   ]
  },
  {
   "cell_type": "code",
   "execution_count": 35,
   "id": "2aada77e",
   "metadata": {},
   "outputs": [
    {
     "name": "stdout",
     "output_type": "stream",
     "text": [
      "[[1, 2], [3, 4], [5, 6, 7], [8, 9, 10]]\n"
     ]
    }
   ],
   "source": [
    "matrisk = [\n",
    "    [1,2],\n",
    "    [3,4],\n",
    "    [5,6,7],\n",
    "    [8,9,10]\n",
    "]\n",
    "print(matriks)"
   ]
  },
  {
   "cell_type": "code",
   "execution_count": 36,
   "id": "38f9cc51",
   "metadata": {},
   "outputs": [
    {
     "data": {
      "text/plain": [
       "[3, 4]"
      ]
     },
     "execution_count": 36,
     "metadata": {},
     "output_type": "execute_result"
    }
   ],
   "source": [
    "matriks[1]"
   ]
  },
  {
   "cell_type": "code",
   "execution_count": 37,
   "id": "000802db",
   "metadata": {},
   "outputs": [
    {
     "data": {
      "text/plain": [
       "[5, 6, 7]"
      ]
     },
     "execution_count": 37,
     "metadata": {},
     "output_type": "execute_result"
    }
   ],
   "source": [
    "matriks[2]"
   ]
  },
  {
   "cell_type": "code",
   "execution_count": 38,
   "id": "ff6bf10f",
   "metadata": {},
   "outputs": [
    {
     "data": {
      "text/plain": [
       "[[1, 2], [3, 4], [5, 6, 7], [8, 9, 10]]"
      ]
     },
     "execution_count": 38,
     "metadata": {},
     "output_type": "execute_result"
    }
   ],
   "source": [
    "matriks"
   ]
  },
  {
   "cell_type": "code",
   "execution_count": 42,
   "id": "f4a2f4e9",
   "metadata": {},
   "outputs": [
    {
     "name": "stdout",
     "output_type": "stream",
     "text": [
      "[1, 2]\n",
      "[1, 2]\n",
      "[3, 4]\n",
      "[5, 6, 7]\n",
      "[8, 9, 10]\n",
      "[3, 4]\n",
      "[1, 2]\n",
      "[3, 4]\n",
      "[5, 6, 7]\n",
      "[8, 9, 10]\n",
      "[5, 6, 7]\n",
      "[1, 2]\n",
      "[3, 4]\n",
      "[5, 6, 7]\n",
      "[8, 9, 10]\n",
      "[8, 9, 10]\n",
      "[1, 2]\n",
      "[3, 4]\n",
      "[5, 6, 7]\n",
      "[8, 9, 10]\n"
     ]
    }
   ],
   "source": [
    "for baris in matriks:\n",
    "    print(baris)\n",
    "    for kolom in matriks:\n",
    "        print(kolom)"
   ]
  },
  {
   "cell_type": "markdown",
   "id": "e060ab7c",
   "metadata": {},
   "source": [
    "5.17 Tuples"
   ]
  },
  {
   "cell_type": "code",
   "execution_count": 43,
   "id": "48cea22a",
   "metadata": {},
   "outputs": [],
   "source": [
    "angka = (1,2,3,4,5)"
   ]
  },
  {
   "cell_type": "code",
   "execution_count": 44,
   "id": "c1cec662",
   "metadata": {},
   "outputs": [
    {
     "name": "stdout",
     "output_type": "stream",
     "text": [
      "1\n"
     ]
    }
   ],
   "source": [
    "print(angka[0])"
   ]
  },
  {
   "cell_type": "code",
   "execution_count": 45,
   "id": "fda6a7f5",
   "metadata": {},
   "outputs": [
    {
     "name": "stdout",
     "output_type": "stream",
     "text": [
      "(1, 2, 3)\n"
     ]
    }
   ],
   "source": [
    "print(angka[0:3])"
   ]
  },
  {
   "cell_type": "code",
   "execution_count": 46,
   "id": "65f5b03b",
   "metadata": {},
   "outputs": [
    {
     "name": "stdout",
     "output_type": "stream",
     "text": [
      "1\n",
      "2\n",
      "3\n"
     ]
    }
   ],
   "source": [
    "for isi in angka[0:3]:\n",
    "    print(isi)"
   ]
  },
  {
   "cell_type": "code",
   "execution_count": null,
   "id": "cac31349",
   "metadata": {},
   "outputs": [],
   "source": [
    "angka[0] = 6"
   ]
  },
  {
   "cell_type": "code",
   "execution_count": null,
   "id": "36d7039b",
   "metadata": {},
   "outputs": [],
   "source": [
    "angka.append(6)"
   ]
  },
  {
   "cell_type": "code",
   "execution_count": null,
   "id": "8b60d841",
   "metadata": {},
   "outputs": [],
   "source": [
    "angka.remove(1)"
   ]
  },
  {
   "cell_type": "code",
   "execution_count": 49,
   "id": "b9fc3430",
   "metadata": {},
   "outputs": [
    {
     "data": {
      "text/plain": [
       "1"
      ]
     },
     "execution_count": 49,
     "metadata": {},
     "output_type": "execute_result"
    }
   ],
   "source": [
    "angka.count(1)"
   ]
  },
  {
   "cell_type": "code",
   "execution_count": 50,
   "id": "13fa2382",
   "metadata": {},
   "outputs": [
    {
     "data": {
      "text/plain": [
       "3"
      ]
     },
     "execution_count": 50,
     "metadata": {},
     "output_type": "execute_result"
    }
   ],
   "source": [
    "angka.index(4)"
   ]
  },
  {
   "cell_type": "markdown",
   "id": "f4248fe6",
   "metadata": {},
   "source": [
    "5.18 Dictionaries"
   ]
  },
  {
   "cell_type": "code",
   "execution_count": 51,
   "id": "3787c73a",
   "metadata": {},
   "outputs": [],
   "source": [
    "data_aku = {\n",
    "    \"nama\" : \"Bintang\",\n",
    "    \"umur\" : 18,\n",
    "    \"apakah_single\" : True\n",
    "}"
   ]
  },
  {
   "cell_type": "code",
   "execution_count": 52,
   "id": "c83bda2c",
   "metadata": {},
   "outputs": [
    {
     "name": "stdout",
     "output_type": "stream",
     "text": [
      "Bintang\n"
     ]
    }
   ],
   "source": [
    "print(data_aku['nama'])"
   ]
  },
  {
   "cell_type": "code",
   "execution_count": 53,
   "id": "60e067d3",
   "metadata": {},
   "outputs": [
    {
     "ename": "KeyError",
     "evalue": "'Nama'",
     "output_type": "error",
     "traceback": [
      "\u001b[1;31m---------------------------------------------------------------------------\u001b[0m",
      "\u001b[1;31mKeyError\u001b[0m                                  Traceback (most recent call last)",
      "\u001b[1;32mC:\\Users\\PRATIR~1\\AppData\\Local\\Temp/ipykernel_13300/1490502008.py\u001b[0m in \u001b[0;36m<module>\u001b[1;34m\u001b[0m\n\u001b[1;32m----> 1\u001b[1;33m \u001b[0mprint\u001b[0m\u001b[1;33m(\u001b[0m\u001b[0mdata_aku\u001b[0m\u001b[1;33m[\u001b[0m\u001b[1;34m'Nama'\u001b[0m\u001b[1;33m]\u001b[0m\u001b[1;33m)\u001b[0m\u001b[1;33m\u001b[0m\u001b[1;33m\u001b[0m\u001b[0m\n\u001b[0m",
      "\u001b[1;31mKeyError\u001b[0m: 'Nama'"
     ]
    }
   ],
   "source": [
    "print(data_aku['Nama'])"
   ]
  },
  {
   "cell_type": "code",
   "execution_count": 54,
   "id": "5cd03aaa",
   "metadata": {},
   "outputs": [
    {
     "name": "stdout",
     "output_type": "stream",
     "text": [
      "Bintang\n"
     ]
    }
   ],
   "source": [
    "print(data_aku.get('nama'))"
   ]
  },
  {
   "cell_type": "code",
   "execution_count": 55,
   "id": "4a1de59a",
   "metadata": {},
   "outputs": [
    {
     "name": "stdout",
     "output_type": "stream",
     "text": [
      "None\n"
     ]
    }
   ],
   "source": [
    "print(data_aku.get('Nama'))"
   ]
  },
  {
   "cell_type": "code",
   "execution_count": 56,
   "id": "8f29a097",
   "metadata": {},
   "outputs": [
    {
     "name": "stdout",
     "output_type": "stream",
     "text": [
      "None\n"
     ]
    }
   ],
   "source": [
    "print(data_aku.get('tanggal_lahir'))"
   ]
  },
  {
   "cell_type": "code",
   "execution_count": 57,
   "id": "f8d1022b",
   "metadata": {},
   "outputs": [
    {
     "name": "stdout",
     "output_type": "stream",
     "text": [
      "28-08-2003\n"
     ]
    }
   ],
   "source": [
    "print(data_aku.get('tanggal_lahir', '28-08-2003'))"
   ]
  },
  {
   "cell_type": "code",
   "execution_count": 58,
   "id": "c4647cc8",
   "metadata": {},
   "outputs": [
    {
     "name": "stdout",
     "output_type": "stream",
     "text": [
      "{'nama': 'Bintang', 'umur': 18, 'apakah_single': True}\n"
     ]
    }
   ],
   "source": [
    "print(data_aku)"
   ]
  },
  {
   "cell_type": "code",
   "execution_count": 59,
   "id": "70b55ab8",
   "metadata": {},
   "outputs": [
    {
     "ename": "KeyError",
     "evalue": "'tanggal_lahir'",
     "output_type": "error",
     "traceback": [
      "\u001b[1;31m---------------------------------------------------------------------------\u001b[0m",
      "\u001b[1;31mKeyError\u001b[0m                                  Traceback (most recent call last)",
      "\u001b[1;32mC:\\Users\\PRATIR~1\\AppData\\Local\\Temp/ipykernel_13300/2474084456.py\u001b[0m in \u001b[0;36m<module>\u001b[1;34m\u001b[0m\n\u001b[1;32m----> 1\u001b[1;33m \u001b[0mprint\u001b[0m\u001b[1;33m(\u001b[0m\u001b[0mdata_aku\u001b[0m\u001b[1;33m[\u001b[0m\u001b[1;34m\"tanggal_lahir\"\u001b[0m\u001b[1;33m]\u001b[0m\u001b[1;33m)\u001b[0m\u001b[1;33m\u001b[0m\u001b[1;33m\u001b[0m\u001b[0m\n\u001b[0m",
      "\u001b[1;31mKeyError\u001b[0m: 'tanggal_lahir'"
     ]
    }
   ],
   "source": [
    "print(data_aku[\"tanggal_lahir\"])"
   ]
  },
  {
   "cell_type": "code",
   "execution_count": 60,
   "id": "24c80988",
   "metadata": {},
   "outputs": [],
   "source": [
    "data_aku['HP'] = '081111222333'"
   ]
  },
  {
   "cell_type": "code",
   "execution_count": 61,
   "id": "274b250b",
   "metadata": {},
   "outputs": [
    {
     "name": "stdout",
     "output_type": "stream",
     "text": [
      "081111222333\n"
     ]
    }
   ],
   "source": [
    "print(data_aku['HP'])"
   ]
  },
  {
   "cell_type": "code",
   "execution_count": 62,
   "id": "92ed21b1",
   "metadata": {},
   "outputs": [
    {
     "name": "stdout",
     "output_type": "stream",
     "text": [
      "{'nama': 'Bintang', 'umur': 18, 'apakah_single': True, 'HP': '081111222333'}\n"
     ]
    }
   ],
   "source": [
    "print(data_aku)"
   ]
  },
  {
   "cell_type": "code",
   "execution_count": 1,
   "id": "f36826ef",
   "metadata": {},
   "outputs": [
    {
     "name": "stdout",
     "output_type": "stream",
     "text": [
      "Masukkan nomor HP anda 081111222333\n",
      "nol delapan satu satu satu satu dua dua dua tiga tiga tiga \n"
     ]
    }
   ],
   "source": [
    "angka = {\n",
    "    \"0\" : \"nol\",\n",
    "    \"1\" : \"satu\",\n",
    "    \"2\" : \"dua\",\n",
    "    \"3\" : \"tiga\",\n",
    "    \"4\" : \"empat\",\n",
    "    \"5\" : \"lima\",\n",
    "    \"6\" : \"enam\",\n",
    "    \"7\" : \"tujuh\",\n",
    "    \"8\" : \"delapan\",\n",
    "    \"9\" : \"sembilan\"\n",
    "}\n",
    "nomor_HP = input(\"Masukkan nomor HP anda \")\n",
    "nomor_angka = \"\"\n",
    "for isi in nomor_HP:\n",
    "    nomor_angka += angka.get(isi) + \" \"\n",
    "print(nomor_angka)"
   ]
  },
  {
   "cell_type": "markdown",
   "id": "4367cc63",
   "metadata": {},
   "source": [
    "5.19 Fungsi dalam Python"
   ]
  },
  {
   "cell_type": "code",
   "execution_count": 3,
   "id": "12e12fdd",
   "metadata": {},
   "outputs": [],
   "source": [
    "def full_name(first_name,last_name):\n",
    "    print(f\"Nama lengkapnya adalah {first_name} {last_name}\")"
   ]
  },
  {
   "cell_type": "code",
   "execution_count": 4,
   "id": "eb5ad11e",
   "metadata": {},
   "outputs": [
    {
     "name": "stdout",
     "output_type": "stream",
     "text": [
      "Nama depan anda adalah Bintang\n",
      "Nama belakang anda adalah Marscelina\n",
      "Nama lengkapnya adalah Bintang Marscelina\n"
     ]
    }
   ],
   "source": [
    "first_name = input(\"Nama depan anda adalah \")\n",
    "last_name = input(\"Nama belakang anda adalah \")\n",
    "full_name(first_name,last_name)"
   ]
  },
  {
   "cell_type": "markdown",
   "id": "a7ac9c85",
   "metadata": {},
   "source": [
    "5.19.1 Tugas Fungsi pada Python"
   ]
  },
  {
   "cell_type": "code",
   "execution_count": 5,
   "id": "2b4fb493",
   "metadata": {},
   "outputs": [],
   "source": [
    "def waktu_sampai(jarak,kecepatan):\n",
    "    waktu = jarak/kecepatan\n",
    "    print(waktu)"
   ]
  },
  {
   "cell_type": "code",
   "execution_count": 6,
   "id": "96623f63",
   "metadata": {},
   "outputs": [],
   "source": [
    "def waktu_tempuh(jarak,kecepatan):\n",
    "    waktu = jarak/kecepatan\n",
    "    return waktu"
   ]
  },
  {
   "cell_type": "code",
   "execution_count": 7,
   "id": "fe9339c7",
   "metadata": {},
   "outputs": [
    {
     "name": "stdout",
     "output_type": "stream",
     "text": [
      "0.08333333333333333\n"
     ]
    }
   ],
   "source": [
    "waktu_sampai(5,60)"
   ]
  },
  {
   "cell_type": "code",
   "execution_count": 8,
   "id": "e977f47a",
   "metadata": {},
   "outputs": [
    {
     "data": {
      "text/plain": [
       "0.08333333333333333"
      ]
     },
     "execution_count": 8,
     "metadata": {},
     "output_type": "execute_result"
    }
   ],
   "source": [
    "waktu_tempuh(5,60)"
   ]
  },
  {
   "cell_type": "code",
   "execution_count": 9,
   "id": "fa8e82a2",
   "metadata": {},
   "outputs": [
    {
     "name": "stdout",
     "output_type": "stream",
     "text": [
      "0.08333333333333333\n",
      "None\n"
     ]
    }
   ],
   "source": [
    "a = waktu_sampai(5,60)\n",
    "print(a)"
   ]
  },
  {
   "cell_type": "code",
   "execution_count": 10,
   "id": "9b5cf97e",
   "metadata": {},
   "outputs": [
    {
     "name": "stdout",
     "output_type": "stream",
     "text": [
      "0.08333333333333333\n"
     ]
    }
   ],
   "source": [
    "b = waktu_tempuh(5,60)\n",
    "print(b)"
   ]
  },
  {
   "cell_type": "code",
   "execution_count": 11,
   "id": "7bfae0b6",
   "metadata": {},
   "outputs": [],
   "source": [
    "import numpy as np"
   ]
  },
  {
   "cell_type": "code",
   "execution_count": 12,
   "id": "6da8f96e",
   "metadata": {},
   "outputs": [],
   "source": [
    "def luas_segitiga(alas,tinggi):\n",
    "    luas = (1/2)*alas*tinggi\n",
    "    return luas\n",
    "def luas_lingkaran(jari_jari):\n",
    "    luas = np.pi*(jari_jari**2)\n",
    "    return luas\n",
    "def luas_persegi(sisi):\n",
    "    luas = sisi**2\n",
    "    return luas\n",
    "def luas_persegi_panjang(panjang,lebar):\n",
    "    luas = panjang*lebar\n",
    "    return luas"
   ]
  },
  {
   "cell_type": "code",
   "execution_count": 14,
   "id": "de06e096",
   "metadata": {},
   "outputs": [
    {
     "name": "stdout",
     "output_type": "stream",
     "text": [
      "Tulis jenis bidangnya PERSEGI\n",
      "Berapakah panjang sisinya?2\n",
      "Luas PERSEGI adalah 4.0\n"
     ]
    }
   ],
   "source": [
    "jenis_bidang = input(\"Tulis jenis bidangnya \")\n",
    "if jenis_bidang.upper() == 'SEGITIGA':\n",
    "    alas = float(input('Berapakah panjang alasnya?'))\n",
    "    tinggi = float(input('Berapakah tingginya?'))\n",
    "    luas = luas_segitiga(alas,tinggi)\n",
    "    print(f\"Luas {jenis_bidang} adalah {luas}\")\n",
    "elif jenis_bidang.upper() == 'LINGKARAN':\n",
    "    jari_jari = float(input('Berapakah panjang jari-jarinya?'))\n",
    "    luas = luas_lingkaran(jari-jari)\n",
    "    print(f\"Luas {jenis-bidang} adalah {luas}\")\n",
    "elif (jenis_bidang.upper() == 'PERSEGI') or (jenis_bidang.upper() == 'BUJUR SANGKAR'):\n",
    "    sisi = float(input('Berapakah panjang sisinya?'))\n",
    "    luas = luas_persegi(sisi)\n",
    "    print(f\"Luas {jenis_bidang} adalah {luas}\")\n",
    "elif jenis_bidang.upper() == 'PERSEGI PANJANG':\n",
    "    panjang = float(input('Berapakah panjang sisinya?'))\n",
    "    lebar = float(input('Berapakah lebarnya?'))\n",
    "    luas = luas_persegi_panjang(panjang,lebar)\n",
    "    print(f\"Luas {jenis_bidang} adalah {luas}\")\n",
    "else:\n",
    "    print(f\"Maaf bidang {jenis_bidang} yang anda masukkan tidak ada.\")\n",
    "    print(\"Pilihan cuma SEGITIGA, LINGKARAN, PERSEGI dan PERSEGI PANJANG.\")\n",
    "    print('Terimakasih')"
   ]
  }
 ],
 "metadata": {
  "kernelspec": {
   "display_name": "Python 3 (ipykernel)",
   "language": "python",
   "name": "python3"
  },
  "language_info": {
   "codemirror_mode": {
    "name": "ipython",
    "version": 3
   },
   "file_extension": ".py",
   "mimetype": "text/x-python",
   "name": "python",
   "nbconvert_exporter": "python",
   "pygments_lexer": "ipython3",
   "version": "3.9.7"
  }
 },
 "nbformat": 4,
 "nbformat_minor": 5
}
