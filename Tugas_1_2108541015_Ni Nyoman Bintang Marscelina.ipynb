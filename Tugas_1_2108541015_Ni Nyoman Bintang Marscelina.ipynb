{
 "cells": [
  {
   "cell_type": "markdown",
   "id": "65857201",
   "metadata": {},
   "source": [
    "5.1 Print"
   ]
  },
  {
   "cell_type": "code",
   "execution_count": 1,
   "id": "1cf5c814",
   "metadata": {},
   "outputs": [
    {
     "name": "stdout",
     "output_type": "stream",
     "text": [
      "Saya Bintang Marscelina\n"
     ]
    }
   ],
   "source": [
    "print('Saya Bintang Marscelina')"
   ]
  },
  {
   "cell_type": "code",
   "execution_count": 2,
   "id": "e837e09d",
   "metadata": {},
   "outputs": [
    {
     "name": "stdout",
     "output_type": "stream",
     "text": [
      "Saya Bintang Marscelina\n"
     ]
    }
   ],
   "source": [
    "print(\"Saya Bintang Marscelina\")"
   ]
  },
  {
   "cell_type": "code",
   "execution_count": 3,
   "id": "c957f23c",
   "metadata": {},
   "outputs": [
    {
     "name": "stdout",
     "output_type": "stream",
     "text": [
      "I can't do this\n"
     ]
    }
   ],
   "source": [
    "print(\"I can't do this\")"
   ]
  },
  {
   "cell_type": "code",
   "execution_count": 4,
   "id": "e3327ac7",
   "metadata": {},
   "outputs": [
    {
     "ename": "SyntaxError",
     "evalue": "invalid syntax (Temp/ipykernel_272/3021387249.py, line 1)",
     "output_type": "error",
     "traceback": [
      "\u001b[1;36m  File \u001b[1;32m\"C:\\Users\\PRATIR~1\\AppData\\Local\\Temp/ipykernel_272/3021387249.py\"\u001b[1;36m, line \u001b[1;32m1\u001b[0m\n\u001b[1;33m    print('I can't do this')\u001b[0m\n\u001b[1;37m                 ^\u001b[0m\n\u001b[1;31mSyntaxError\u001b[0m\u001b[1;31m:\u001b[0m invalid syntax\n"
     ]
    }
   ],
   "source": [
    "print('I can't do this')"
   ]
  },
  {
   "cell_type": "code",
   "execution_count": 5,
   "id": "74bcbead",
   "metadata": {},
   "outputs": [
    {
     "name": "stdout",
     "output_type": "stream",
     "text": [
      "I am such a \"GENIUS\"\n"
     ]
    }
   ],
   "source": [
    "print('I am such a \"GENIUS\"')"
   ]
  },
  {
   "cell_type": "code",
   "execution_count": 6,
   "id": "f490a3c4",
   "metadata": {},
   "outputs": [
    {
     "ename": "SyntaxError",
     "evalue": "invalid syntax (Temp/ipykernel_272/2507362482.py, line 1)",
     "output_type": "error",
     "traceback": [
      "\u001b[1;36m  File \u001b[1;32m\"C:\\Users\\PRATIR~1\\AppData\\Local\\Temp/ipykernel_272/2507362482.py\"\u001b[1;36m, line \u001b[1;32m1\u001b[0m\n\u001b[1;33m    print(\"I am such a \"GENIUS\")\u001b[0m\n\u001b[1;37m                        ^\u001b[0m\n\u001b[1;31mSyntaxError\u001b[0m\u001b[1;31m:\u001b[0m invalid syntax\n"
     ]
    }
   ],
   "source": [
    "print(\"I am such a \"GENIUS\")"
   ]
  },
  {
   "cell_type": "code",
   "execution_count": 7,
   "id": "de90d310",
   "metadata": {},
   "outputs": [
    {
     "name": "stdout",
     "output_type": "stream",
     "text": [
      "10\n",
      "10000\n",
      "100000\n"
     ]
    }
   ],
   "source": [
    "orang = 10\n",
    "uang_di_kantong = 10000\n",
    "print(orang)\n",
    "print(uang_di_kantong)\n",
    "print(orang*uang_di_kantong)"
   ]
  },
  {
   "cell_type": "code",
   "execution_count": 8,
   "id": "08882bc9",
   "metadata": {},
   "outputs": [
    {
     "name": "stdout",
     "output_type": "stream",
     "text": [
      "Bintang Marscelina\n"
     ]
    }
   ],
   "source": [
    "nama_depan = 'Bintang'\n",
    "spasi = ' '\n",
    "nama_belakang = 'Marscelina'\n",
    "print(nama_depan + spasi + nama_belakang)"
   ]
  },
  {
   "cell_type": "markdown",
   "id": "a682af2d",
   "metadata": {},
   "source": [
    "5.2 Input"
   ]
  },
  {
   "cell_type": "code",
   "execution_count": 10,
   "id": "f1b73d44",
   "metadata": {},
   "outputs": [
    {
     "name": "stdout",
     "output_type": "stream",
     "text": [
      "Siapa nama kamu? Bintang\n",
      "Kamu sedang apa? belajar\n",
      "Semangat belajarnya yah, Bintang!\n"
     ]
    }
   ],
   "source": [
    "nama = input (\"Siapa nama kamu? \")\n",
    "kegiatan = input ('Kamu sedang apa? ')\n",
    "print(\"Semangat \" + kegiatan +\"nya yah, \" + nama + \"!\")"
   ]
  },
  {
   "cell_type": "markdown",
   "id": "ac6b454d",
   "metadata": {},
   "source": [
    "5.3 Tipe Data pada Python"
   ]
  },
  {
   "cell_type": "code",
   "execution_count": 11,
   "id": "0b3f5000",
   "metadata": {},
   "outputs": [
    {
     "name": "stdout",
     "output_type": "stream",
     "text": [
      "Berapa uang di kantong anda? 1000\n",
      "Berapa jumlah tabungan anda? 10000\n",
      "Total uang anda adalah Rp 100010000\n"
     ]
    }
   ],
   "source": [
    "uang_di_kantong = input(\"Berapa uang di kantong anda? \")\n",
    "uang_di_tabungan = input(\"Berapa jumlah tabungan anda? \")\n",
    "print(\"Total uang anda adalah Rp \" + uang_di_kantong + uang_di_tabungan)"
   ]
  },
  {
   "cell_type": "code",
   "execution_count": 12,
   "id": "c2db7bf9",
   "metadata": {},
   "outputs": [
    {
     "name": "stdout",
     "output_type": "stream",
     "text": [
      "Berapa uang di kantong anda? 1000\n",
      "Berapa jumlah tabungan anda? 10000\n",
      "Total uang anda adalah Rp 11000\n"
     ]
    }
   ],
   "source": [
    "uang_di_kantong = input(\"Berapa uang di kantong anda? \")\n",
    "uang_di_tabungan = input(\"Berapa jumlah tabungan anda? \")\n",
    "total_uang = int(uang_di_kantong) + int(uang_di_tabungan)\n",
    "print(\"Total uang anda adalah Rp \"+ str(total_uang))"
   ]
  },
  {
   "cell_type": "code",
   "execution_count": 13,
   "id": "663f71f6",
   "metadata": {},
   "outputs": [
    {
     "data": {
      "text/plain": [
       "str"
      ]
     },
     "execution_count": 13,
     "metadata": {},
     "output_type": "execute_result"
    }
   ],
   "source": [
    "type(uang_di_kantong)"
   ]
  },
  {
   "cell_type": "code",
   "execution_count": 14,
   "id": "1106261e",
   "metadata": {},
   "outputs": [
    {
     "data": {
      "text/plain": [
       "str"
      ]
     },
     "execution_count": 14,
     "metadata": {},
     "output_type": "execute_result"
    }
   ],
   "source": [
    "type(uang_di_tabungan)"
   ]
  },
  {
   "cell_type": "code",
   "execution_count": 15,
   "id": "4049a91a",
   "metadata": {},
   "outputs": [
    {
     "data": {
      "text/plain": [
       "int"
      ]
     },
     "execution_count": 15,
     "metadata": {},
     "output_type": "execute_result"
    }
   ],
   "source": [
    "type(total_uang)"
   ]
  },
  {
   "cell_type": "code",
   "execution_count": 16,
   "id": "3e2121ba",
   "metadata": {},
   "outputs": [
    {
     "name": "stdout",
     "output_type": "stream",
     "text": [
      "Masukkan bilangan pertama: 1\n",
      "Masukkan bilangan kedua: 2\n",
      "Jumlah kedua bilangan adalah 3.0\n"
     ]
    }
   ],
   "source": [
    "bilangan_pertama = input(\"Masukkan bilangan pertama: \")\n",
    "bilangan_kedua = input(\"Masukkan bilangan kedua: \")\n",
    "jumlah = float(bilangan_pertama) + float(bilangan_kedua)\n",
    "print(\"Jumlah kedua bilangan adalah \"+ str(jumlah))"
   ]
  },
  {
   "cell_type": "markdown",
   "id": "0ad5de41",
   "metadata": {},
   "source": [
    "5.4 Formatted String"
   ]
  },
  {
   "cell_type": "code",
   "execution_count": 18,
   "id": "5be1152b",
   "metadata": {},
   "outputs": [
    {
     "name": "stdout",
     "output_type": "stream",
     "text": [
      "Bintang adalah seorang mahasiswa di Universitas Udayana.\n"
     ]
    }
   ],
   "source": [
    "nama = \"Bintang\"\n",
    "pekerjaan = 'mahasiswa'\n",
    "institusi = 'Universitas Udayana'\n",
    "print(nama + ' adalah seorang ' + pekerjaan + ' di ' + institusi +'.')"
   ]
  },
  {
   "cell_type": "code",
   "execution_count": 19,
   "id": "e5433a58",
   "metadata": {},
   "outputs": [
    {
     "name": "stdout",
     "output_type": "stream",
     "text": [
      "Bintang adalah seorang mahasiswa di Universitas Udayana.\n"
     ]
    }
   ],
   "source": [
    "print(f'{nama} adalah seorang {pekerjaan} di {institusi}.')"
   ]
  },
  {
   "cell_type": "code",
   "execution_count": 20,
   "id": "5aac315a",
   "metadata": {},
   "outputs": [
    {
     "name": "stdout",
     "output_type": "stream",
     "text": [
      "Bintang adalah seorang mahasiswa di Universitas Udayana.\n"
     ]
    }
   ],
   "source": [
    "print(f\"{nama} adalah seorang {pekerjaan} di {institusi}.\")"
   ]
  },
  {
   "cell_type": "markdown",
   "id": "b8dcc9ad",
   "metadata": {},
   "source": [
    "5.5 Strings Index"
   ]
  },
  {
   "cell_type": "code",
   "execution_count": 21,
   "id": "80a1e6f9",
   "metadata": {},
   "outputs": [],
   "source": [
    "kelas = 'ini kelas algoritma'"
   ]
  },
  {
   "cell_type": "code",
   "execution_count": 22,
   "id": "019898d7",
   "metadata": {},
   "outputs": [
    {
     "name": "stdout",
     "output_type": "stream",
     "text": [
      "ini\n"
     ]
    }
   ],
   "source": [
    "print(kelas[0:3])"
   ]
  },
  {
   "cell_type": "code",
   "execution_count": 23,
   "id": "4d036e7a",
   "metadata": {},
   "outputs": [
    {
     "name": "stdout",
     "output_type": "stream",
     "text": [
      "ini kelas algoritm\n"
     ]
    }
   ],
   "source": [
    "print(kelas[0:-1])"
   ]
  },
  {
   "cell_type": "code",
   "execution_count": 24,
   "id": "e1841221",
   "metadata": {},
   "outputs": [
    {
     "name": "stdout",
     "output_type": "stream",
     "text": [
      "elas algoritm\n"
     ]
    }
   ],
   "source": [
    "print(kelas[5:-1])"
   ]
  },
  {
   "cell_type": "code",
   "execution_count": 25,
   "id": "c6418307",
   "metadata": {},
   "outputs": [
    {
     "name": "stdout",
     "output_type": "stream",
     "text": [
      "ieslrm\n"
     ]
    }
   ],
   "source": [
    "print(kelas[2:-1:3])"
   ]
  },
  {
   "cell_type": "code",
   "execution_count": 26,
   "id": "d3996e48",
   "metadata": {},
   "outputs": [
    {
     "name": "stdout",
     "output_type": "stream",
     "text": [
      "ini kelas algori\n"
     ]
    }
   ],
   "source": [
    "print(kelas[:-3])"
   ]
  },
  {
   "cell_type": "code",
   "execution_count": 27,
   "id": "387c64bc",
   "metadata": {},
   "outputs": [
    {
     "name": "stdout",
     "output_type": "stream",
     "text": [
      "ni kelas algoritma\n"
     ]
    }
   ],
   "source": [
    "print(kelas[1:])"
   ]
  },
  {
   "cell_type": "code",
   "execution_count": 28,
   "id": "250bd0fc",
   "metadata": {},
   "outputs": [
    {
     "name": "stdout",
     "output_type": "stream",
     "text": [
      "ini kelas algoritma\n"
     ]
    }
   ],
   "source": [
    "print(kelas[:])"
   ]
  },
  {
   "cell_type": "markdown",
   "id": "f1352fe0",
   "metadata": {},
   "source": [
    "5.6 Strings Methods"
   ]
  },
  {
   "cell_type": "code",
   "execution_count": 38,
   "id": "02e164bd",
   "metadata": {},
   "outputs": [],
   "source": [
    "judul = 'Nyoman Bintang Marscelina'"
   ]
  },
  {
   "cell_type": "code",
   "execution_count": 39,
   "id": "8918b18d",
   "metadata": {},
   "outputs": [
    {
     "name": "stdout",
     "output_type": "stream",
     "text": [
      "25\n"
     ]
    }
   ],
   "source": [
    "print(len(judul))"
   ]
  },
  {
   "cell_type": "code",
   "execution_count": 40,
   "id": "c5ff49b4",
   "metadata": {},
   "outputs": [
    {
     "data": {
      "text/plain": [
       "'NYOMAN BINTANG MARSCELINA'"
      ]
     },
     "execution_count": 40,
     "metadata": {},
     "output_type": "execute_result"
    }
   ],
   "source": [
    "judul.upper()"
   ]
  },
  {
   "cell_type": "code",
   "execution_count": 41,
   "id": "c1a54347",
   "metadata": {},
   "outputs": [
    {
     "data": {
      "text/plain": [
       "'nyoman bintang marscelina'"
      ]
     },
     "execution_count": 41,
     "metadata": {},
     "output_type": "execute_result"
    }
   ],
   "source": [
    "judul.lower()"
   ]
  },
  {
   "cell_type": "code",
   "execution_count": 42,
   "id": "773eb250",
   "metadata": {},
   "outputs": [
    {
     "data": {
      "text/plain": [
       "7"
      ]
     },
     "execution_count": 42,
     "metadata": {},
     "output_type": "execute_result"
    }
   ],
   "source": [
    "judul.find('Bintang')"
   ]
  },
  {
   "cell_type": "code",
   "execution_count": 43,
   "id": "1897243d",
   "metadata": {},
   "outputs": [
    {
     "data": {
      "text/plain": [
       "-1"
      ]
     },
     "execution_count": 43,
     "metadata": {},
     "output_type": "execute_result"
    }
   ],
   "source": [
    "judul.find('nyoman')"
   ]
  },
  {
   "cell_type": "code",
   "execution_count": 44,
   "id": "cf10cea6",
   "metadata": {},
   "outputs": [
    {
     "data": {
      "text/plain": [
       "'Aku Bintang Marscelina'"
      ]
     },
     "execution_count": 44,
     "metadata": {},
     "output_type": "execute_result"
    }
   ],
   "source": [
    "judul.replace('Nyoman', 'Aku')"
   ]
  },
  {
   "cell_type": "code",
   "execution_count": 45,
   "id": "4b2eadd5",
   "metadata": {},
   "outputs": [
    {
     "data": {
      "text/plain": [
       "'Nyoman Bintang Marscelina'"
      ]
     },
     "execution_count": 45,
     "metadata": {},
     "output_type": "execute_result"
    }
   ],
   "source": [
    "judul.replace('nyoman', 'aku')"
   ]
  },
  {
   "cell_type": "code",
   "execution_count": 47,
   "id": "069afdec",
   "metadata": {},
   "outputs": [
    {
     "name": "stdout",
     "output_type": "stream",
     "text": [
      "True\n"
     ]
    }
   ],
   "source": [
    "print('Bintang' in judul)"
   ]
  },
  {
   "cell_type": "code",
   "execution_count": 48,
   "id": "f06ffeab",
   "metadata": {},
   "outputs": [
    {
     "name": "stdout",
     "output_type": "stream",
     "text": [
      "False\n"
     ]
    }
   ],
   "source": [
    "print('bintang' in judul)"
   ]
  },
  {
   "cell_type": "markdown",
   "id": "53dba248",
   "metadata": {},
   "source": [
    "5.7 Operasi Matematika di Python"
   ]
  },
  {
   "cell_type": "code",
   "execution_count": 49,
   "id": "09d7fa62",
   "metadata": {},
   "outputs": [
    {
     "name": "stdout",
     "output_type": "stream",
     "text": [
      "15\n",
      "-1\n",
      "56\n",
      "0.875\n",
      "0\n",
      "7\n",
      "5764801\n",
      "8\n",
      "1\n",
      "8\n"
     ]
    }
   ],
   "source": [
    "print(7+8)\n",
    "print(7-8)\n",
    "print(7*8)\n",
    "print(7/8)\n",
    "print(7//8)\n",
    "print(7%8)\n",
    "print(7**8)\n",
    "x=8\n",
    "x>=6\n",
    "print(x)\n",
    "x-=7\n",
    "print(x)\n",
    "x*=8\n",
    "print(x)"
   ]
  },
  {
   "cell_type": "markdown",
   "id": "d1500bdf",
   "metadata": {},
   "source": [
    "5.8 Operator Perbandingan di Python"
   ]
  },
  {
   "cell_type": "code",
   "execution_count": 50,
   "id": "e51e3f6a",
   "metadata": {},
   "outputs": [
    {
     "name": "stdout",
     "output_type": "stream",
     "text": [
      "True\n",
      "True\n",
      "True\n",
      "True\n",
      "True\n",
      "True\n"
     ]
    }
   ],
   "source": [
    "x = 5>4\n",
    "print(x)\n",
    "x = 4<5\n",
    "print(x)\n",
    "x = 5 >= 4\n",
    "print(x)\n",
    "x = 4 <= 5\n",
    "print(x)\n",
    "x = 5 == 5\n",
    "print(x)\n",
    "x = 5 != 6\n",
    "print(x)"
   ]
  },
  {
   "cell_type": "code",
   "execution_count": 51,
   "id": "b7a8f9c5",
   "metadata": {},
   "outputs": [
    {
     "name": "stdout",
     "output_type": "stream",
     "text": [
      "False\n",
      "False\n",
      "False\n",
      "False\n",
      "False\n",
      "False\n"
     ]
    }
   ],
   "source": [
    "x = 4>5\n",
    "print(x)\n",
    "x = 5<4\n",
    "print(x)\n",
    "x = 4 >= 5\n",
    "print(x)\n",
    "x = 5 <= 4\n",
    "print(x)\n",
    "x = 4 == 5\n",
    "print(x)\n",
    "x = 5 != 5\n",
    "print(x)"
   ]
  },
  {
   "cell_type": "markdown",
   "id": "5e581109",
   "metadata": {},
   "source": [
    "5.9 Operator Logika di Python"
   ]
  },
  {
   "cell_type": "code",
   "execution_count": 52,
   "id": "ba9edb81",
   "metadata": {},
   "outputs": [
    {
     "name": "stdout",
     "output_type": "stream",
     "text": [
      "True\n"
     ]
    }
   ],
   "source": [
    "bintang = 7\n",
    "marscelina = 10\n",
    "print(bintang > 6 and marscelina < 12)"
   ]
  },
  {
   "cell_type": "code",
   "execution_count": 53,
   "id": "7a344512",
   "metadata": {},
   "outputs": [
    {
     "name": "stdout",
     "output_type": "stream",
     "text": [
      "True\n"
     ]
    }
   ],
   "source": [
    "print(bintang > 6 or marscelina > 12)"
   ]
  },
  {
   "cell_type": "code",
   "execution_count": 54,
   "id": "6043f6aa",
   "metadata": {},
   "outputs": [
    {
     "name": "stdout",
     "output_type": "stream",
     "text": [
      "True\n"
     ]
    }
   ],
   "source": [
    "print(bintang < 6 or marscelina < 12)"
   ]
  },
  {
   "cell_type": "code",
   "execution_count": 55,
   "id": "9d1dfc50",
   "metadata": {},
   "outputs": [
    {
     "name": "stdout",
     "output_type": "stream",
     "text": [
      "False\n"
     ]
    }
   ],
   "source": [
    "print(bintang < 6 or marscelina > 12)"
   ]
  },
  {
   "cell_type": "code",
   "execution_count": 56,
   "id": "a49cc347",
   "metadata": {},
   "outputs": [
    {
     "name": "stdout",
     "output_type": "stream",
     "text": [
      "True\n"
     ]
    }
   ],
   "source": [
    "print(not (bintang < 6 or marscelina > 12))"
   ]
  },
  {
   "cell_type": "markdown",
   "id": "5e1d0677",
   "metadata": {},
   "source": [
    "5.10 Operator if di Python"
   ]
  },
  {
   "cell_type": "code",
   "execution_count": 57,
   "id": "9f97b1bb",
   "metadata": {},
   "outputs": [
    {
     "name": "stdout",
     "output_type": "stream",
     "text": [
      "Nilai anda adalah 40\n",
      "Anda mendapat nilai D\n",
      "Sampai jumpa semester depan!\n"
     ]
    }
   ],
   "source": [
    "nilai = float(input(\"Nilai anda adalah \"))\n",
    "if nilai >= 85:\n",
    "    print(\"Anda mendapat nilai A\")\n",
    "    print(\"Great job!\")\n",
    "if nilai < 85 and nilai >= 75:\n",
    "    print(\"Anda mendapat nilai B+\")\n",
    "    print(\"Tingkatkan lagi!\")\n",
    "if nilai < 75 and nilai >= 65:\n",
    "    print(\"Anda mendapat nilai B-\")\n",
    "    print(\"Tingkatkan lagi!\")\n",
    "if nilai < 65 and nilai >= 55:\n",
    "    print(\"Anda mendapat nilai C\")\n",
    "    print(\"Sampai jumpa semester depan!\")\n",
    "if nilai < 55:\n",
    "    print(\"Anda mendapat nilai D\")\n",
    "    print(\"Sampai jumpa semester depan!\")"
   ]
  },
  {
   "cell_type": "code",
   "execution_count": 59,
   "id": "7dc58818",
   "metadata": {},
   "outputs": [
    {
     "name": "stdout",
     "output_type": "stream",
     "text": [
      "Nilai anda adalah 40\n",
      "Anda mendapat nilai D\n",
      "Sampai jumpa semester depan!\n"
     ]
    }
   ],
   "source": [
    "nilai = float(input(\"Nilai anda adalah \"))\n",
    "if nilai >= 85:\n",
    "    print(\"Anda mendapat nilai A\")\n",
    "    print(\"Great job!\")\n",
    "elif nilai >= 75:\n",
    "    print(\"Anda mendapat nilai B+\")\n",
    "    print(\"Tingkatkan lagi!\")\n",
    "elif nilai >= 65:\n",
    "    print(\"Anda mendapat nilai B-\")\n",
    "    print(\"Tingkatkan lagi!\")\n",
    "elif nilai >= 55:\n",
    "    print(\"Anda mendapat nilai C\")\n",
    "    print(\"Sampai jumpa semester depan!\")\n",
    "else:\n",
    "    print(\"Anda mendapat nilai D\")\n",
    "    print(\"Sampai jumpa semester depan!\")"
   ]
  },
  {
   "cell_type": "code",
   "execution_count": 60,
   "id": "0ca8e296",
   "metadata": {},
   "outputs": [
    {
     "name": "stdout",
     "output_type": "stream",
     "text": [
      "Berapa tinggi anda? 158\n",
      "Dalam cm atau inci? CM\n",
      "Tinggi anda adalah 62.204758000000005 inci\n"
     ]
    }
   ],
   "source": [
    "tinggi = float(input(\"Berapa tinggi anda? \"))\n",
    "cm_atau_inci = input(\"Dalam cm atau inci? \")\n",
    "\n",
    "if cm_atau_inci.upper() == 'CM' :\n",
    "    tinggi = tinggi*0.393701\n",
    "    print(\"Tinggi anda adalah \" + str(tinggi) + \" inci\")\n",
    "elif cm_atau_inci.upper() == 'INCI':\n",
    "    tinggi = tinggi/0.393701\n",
    "    print(f\"Tinggi anda adalah {tinggi} cm\")"
   ]
  },
  {
   "cell_type": "markdown",
   "id": "f43c6150",
   "metadata": {},
   "source": [
    "5.11 While loop"
   ]
  },
  {
   "cell_type": "code",
   "execution_count": 66,
   "id": "2a3c15f3",
   "metadata": {},
   "outputs": [
    {
     "name": "stdout",
     "output_type": "stream",
     "text": [
      "Angka 8 lebih besar dari 7\n",
      "Angka 9 lebih besar dari 7\n",
      "Angka 10 lebih besar dari 7\n",
      "Angka 11 lebih besar dari 7\n",
      "Angka 12 lebih besar dari 7\n",
      "Angka 13 lebih besar dari 7\n",
      "Angka 14 lebih besar dari 7\n"
     ]
    }
   ],
   "source": [
    "x = 8\n",
    "while x < 15:\n",
    "    print(\"Angka \" + str(x)+\" lebih besar dari 7\")\n",
    "    x += 1"
   ]
  },
  {
   "cell_type": "code",
   "execution_count": 69,
   "id": "c3680b37",
   "metadata": {},
   "outputs": [
    {
     "name": "stdout",
     "output_type": "stream",
     "text": [
      "\n",
      "* \n",
      "* * \n",
      "* * * \n",
      "* * * * \n",
      "* * * * * \n",
      "* * * * * * \n"
     ]
    }
   ],
   "source": [
    "a = 0\n",
    "while a < 7:\n",
    "    print(a * '* ')\n",
    "    a += 1"
   ]
  }
 ],
 "metadata": {
  "kernelspec": {
   "display_name": "Python 3 (ipykernel)",
   "language": "python",
   "name": "python3"
  },
  "language_info": {
   "codemirror_mode": {
    "name": "ipython",
    "version": 3
   },
   "file_extension": ".py",
   "mimetype": "text/x-python",
   "name": "python",
   "nbconvert_exporter": "python",
   "pygments_lexer": "ipython3",
   "version": "3.9.7"
  }
 },
 "nbformat": 4,
 "nbformat_minor": 5
}
